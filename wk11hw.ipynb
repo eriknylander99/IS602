{
 "metadata": {
  "name": "",
  "signature": "sha256:dde7e3255fbfabc9030f284bd0b5e52137fc98a5b4141db75277cafd2ac52852"
 },
 "nbformat": 3,
 "nbformat_minor": 0,
 "worksheets": [
  {
   "cells": [
    {
     "cell_type": "heading",
     "level": 1,
     "metadata": {},
     "source": [
      "Calculating the Value at Risk"
     ]
    },
    {
     "cell_type": "heading",
     "level": 2,
     "metadata": {},
     "source": [
      "Evaluating Apple Stock using a Monte Carlo Simulation"
     ]
    },
    {
     "cell_type": "markdown",
     "metadata": {},
     "source": [
      "To run the Value at Risk Analysis on Apple's Stock we first need to import the necessary packages to do the analysis."
     ]
    },
    {
     "cell_type": "code",
     "collapsed": false,
     "input": [
      "%pylab inline\n",
      "import pandas as pd"
     ],
     "language": "python",
     "metadata": {},
     "outputs": [
      {
       "output_type": "stream",
       "stream": "stdout",
       "text": [
        "Populating the interactive namespace from numpy and matplotlib\n"
       ]
      }
     ],
     "prompt_number": 2
    },
    {
     "cell_type": "heading",
     "level": 3,
     "metadata": {},
     "source": [
      "Importing the Apple Data:"
     ]
    },
    {
     "cell_type": "markdown",
     "metadata": {},
     "source": [
      "The next step is to import the Apple stock price data for 2011. We also have need to clean the data. The percent_change column has a non-numeric value that we handle by converting it to a percentchange of 0. We also need to convert this same column to floating point values. We also run the .head() and .tail() functions to verify that our changes have taken place."
     ]
    },
    {
     "cell_type": "code",
     "collapsed": false,
     "input": [
      "headers = ['date', 'price', 'percent_change']\n",
      "df = pd.read_csv('apple.2011.csv', sep=',', names=headers, header=0)\n",
      "df = df.replace('XXXXX', value=0)\n",
      "df['percent_change'] = df['percent_change'].astype(float)\n",
      "print df.head()\n",
      "print df.tail()"
     ],
     "language": "python",
     "metadata": {},
     "outputs": [
      {
       "output_type": "stream",
       "stream": "stdout",
       "text": [
        "       date   price  percent_change\n",
        "0  1/3/2011  329.57        0.000000\n",
        "1  1/4/2011  331.29        0.005219\n",
        "2  1/5/2011  334.00        0.008180\n",
        "3  1/6/2011  333.73       -0.000808\n",
        "4  1/7/2011  336.12        0.007161\n",
        "           date   price  percent_change\n",
        "247  12/23/2011  403.33        0.011993\n",
        "248  12/27/2011  406.53        0.007934\n",
        "249  12/28/2011  402.64       -0.009569\n",
        "250  12/29/2011  405.12        0.006159\n",
        "251  12/30/2011  405.00       -0.000296\n"
       ]
      }
     ],
     "prompt_number": 3
    },
    {
     "cell_type": "heading",
     "level": 3,
     "metadata": {},
     "source": [
      "Generating the Mean and Standard Deviation:"
     ]
    },
    {
     "cell_type": "code",
     "collapsed": false,
     "input": [
      "mu_change = np.mean(df['percent_change'])\n",
      "sigma_change = np.std(df['percent_change'])\n",
      "print 'The mean of the  percent_change: %f' % mu_change \n",
      "print 'The standard deviation of the percent_change: %f' % sigma_change"
     ],
     "language": "python",
     "metadata": {},
     "outputs": [
      {
       "output_type": "stream",
       "stream": "stdout",
       "text": [
        "The mean of the  percent_change: 0.000954\n",
        "The standard deviation of the percent_change: 0.016455\n"
       ]
      }
     ],
     "prompt_number": 4
    },
    {
     "cell_type": "heading",
     "level": 3,
     "metadata": {},
     "source": [
      "Monte Carlo Simulation to calculate the Value at Risk:"
     ]
    },
    {
     "cell_type": "markdown",
     "metadata": {},
     "source": [
      "To run the Monte Carlo simulation we use the mean and Standard Deviation of the percent_change column that was calculated above. The function below runs the simulation for 20 days and returns expected price based on Gaussian random numbers."
     ]
    },
    {
     "cell_type": "code",
     "collapsed": false,
     "input": [
      "def ev_stock(mu, sigma):\n",
      "    values = np.random.normal(mu, sigma, 20)\n",
      "    price = df.iloc[-1]['price']\n",
      "    for val in values:\n",
      "        price += price*val\n",
      "    return price"
     ],
     "language": "python",
     "metadata": {},
     "outputs": [],
     "prompt_number": 7
    },
    {
     "cell_type": "markdown",
     "metadata": {},
     "source": [
      "Now to run the Monte Carlo Simulation. The simulation will be run 10,000 times and the result from each run will be stored in a list. A histogram of the results from the runs of the simulation is also plotted to get a sense for what results we have generated."
     ]
    },
    {
     "cell_type": "code",
     "collapsed": false,
     "input": [
      "sim_vals = []\n",
      "for i in range(0,10000):\n",
      "    value = ev_stock(mu_change, sigma_change)\n",
      "    sim_vals.append(value)\n",
      "count, bins, ignored = hist(sim_vals, 30)\n",
      "title('Apple Stock Price after 20 Days')\n",
      "xlabel('Expected Stock Price')\n",
      "ylabel('Frequency')"
     ],
     "language": "python",
     "metadata": {},
     "outputs": [
      {
       "metadata": {},
       "output_type": "pyout",
       "prompt_number": 16,
       "text": [
        "<matplotlib.text.Text at 0xdde4278>"
       ]
      },
      {
       "metadata": {},
       "output_type": "display_data",
       "png": "[encoded data removed]",
       "text": [
        "<matplotlib.figure.Figure at 0xddde780>"
       ]
      }
     ],
     "prompt_number": 16
    },
    {
     "cell_type": "heading",
     "level": 3,
     "metadata": {},
     "source": [
      "Value at Risk:"
     ]
    },
    {
     "cell_type": "markdown",
     "metadata": {},
     "source": [
      "To calculate the Value at Risk we look for the bottomm 1% lowest percentile of the perdicted values that we have generated. This gives us a 99% confidence level that the stock price will be greater than this value. To perform the calculation we will be using NumPy's function."
     ]
    },
    {
     "cell_type": "code",
     "collapsed": false,
     "input": [
      "var_val = np.percentile(sim_vals, 1)\n",
      "print var_val\n",
      "print 'The Value at Risk with 99 percent confidence level is: $%f' % var_val"
     ],
     "language": "python",
     "metadata": {},
     "outputs": [
      {
       "output_type": "stream",
       "stream": "stdout",
       "text": [
        "346.874984018\n",
        "The Value at Risk with 99 percent confidence level is: $346.874984\n"
       ]
      }
     ],
     "prompt_number": 9
    }
   ],
   "metadata": {}
  }
 ]
}